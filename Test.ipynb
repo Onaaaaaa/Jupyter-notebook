{
  "metadata": {
    "kernelspec": {
      "name": "python",
      "display_name": "Python (Pyodide)",
      "language": "python"
    },
    "language_info": {
      "codemirror_mode": {
        "name": "python",
        "version": 3
      },
      "file_extension": ".py",
      "mimetype": "text/x-python",
      "name": "python",
      "nbconvert_exporter": "python",
      "pygments_lexer": "ipython3",
      "version": "3.8"
    }
  },
  "nbformat_minor": 4,
  "nbformat": 4,
  "cells": [
    {
      "cell_type": "markdown",
      "source": "<h1>Jupyter notebook</h1>\n<h4>Live Demo</h4>",
      "metadata": {}
    },
    {
      "cell_type": "code",
      "source": "print(\"Der Code funktioniert :)\")",
      "metadata": {
        "trusted": true
      },
      "outputs": [
        {
          "name": "stdout",
          "text": "Der Code funktioniert :)\n",
          "output_type": "stream"
        }
      ],
      "execution_count": 4
    }
  ]
}